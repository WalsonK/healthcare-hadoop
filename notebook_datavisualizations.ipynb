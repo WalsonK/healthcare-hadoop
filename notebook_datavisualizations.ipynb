{
 "cells": [
  {
   "cell_type": "markdown",
   "source": [
    "# Module import"
   ],
   "metadata": {
    "collapsed": false
   }
  },
  {
   "cell_type": "code",
   "execution_count": null,
   "outputs": [],
   "source": [
    "import healthcare_spark_analysis"
   ],
   "metadata": {
    "collapsed": false
   }
  },
  {
   "cell_type": "markdown",
   "source": [
    "# Instance creation and initialization"
   ],
   "metadata": {
    "collapsed": false
   }
  },
  {
   "cell_type": "code",
   "execution_count": null,
   "metadata": {
    "collapsed": true
   },
   "outputs": [],
   "source": [
    "healthcare_instance = healthcare_spark_analysis.Healthcare()\n",
    "healthcare_instance.get_data(\"train_data.csv\")\n",
    "healthcare_instance.add_columns_based_on_split(\"Age\")\n",
    "healthcare_instance.add_columns_based_on_split(\"Stay\")"
   ]
  },
  {
   "cell_type": "markdown",
   "source": [
    "# Pyspark dataframe conversion into pandas dataframe for visualizations"
   ],
   "metadata": {
    "collapsed": false
   }
  },
  {
   "cell_type": "code",
   "execution_count": 1,
   "outputs": [],
   "source": [
    "import matplotlib.pyplot as plt\n",
    "import seaborn as sns\n",
    "import pandas as pd"
   ],
   "metadata": {
    "collapsed": false,
    "ExecuteTime": {
     "start_time": "2023-07-01T16:51:01.870212Z",
     "end_time": "2023-07-01T16:51:01.872851Z"
    }
   }
  },
  {
   "cell_type": "code",
   "execution_count": null,
   "outputs": [],
   "source": [
    "df = healthcare_instance.healthcare_data.toPandas()"
   ],
   "metadata": {
    "collapsed": false
   }
  },
  {
   "cell_type": "code",
   "execution_count": null,
   "outputs": [],
   "source": [
    "plt.xlabel('Age')\n",
    "plt.ylabel('Frequency')\n",
    "plt.title('Age Distribution in admissions')\n",
    "pd.concat([df['AgeMin'], df['AgeMax']]).hist(legend=True)"
   ],
   "metadata": {
    "collapsed": false
   }
  },
  {
   "cell_type": "code",
   "execution_count": null,
   "outputs": [],
   "source": [
    "plt.xlabel('Stay')\n",
    "plt.ylabel('Frequency')\n",
    "plt.title('Stay duration distribution')\n",
    "pd.concat([df['StayMin'], df['StayMax']]).hist(legend=True)"
   ],
   "metadata": {
    "collapsed": false
   }
  },
  {
   "cell_type": "code",
   "execution_count": null,
   "outputs": [],
   "source": [
    "concat_df = pd.DataFrame({\n",
    "    'Age': pd.concat([df['StayMin'], df['StayMax']]),\n",
    "    'Stay': pd.concat([df['AgeMin'], df['AgeMax']])\n",
    "})"
   ],
   "metadata": {
    "collapsed": false
   }
  },
  {
   "cell_type": "code",
   "execution_count": null,
   "outputs": [],
   "source": [
    "sns.boxplot(data=concat_df, x='Stay', orient='horizontal', width=0.2)"
   ],
   "metadata": {
    "collapsed": false
   }
  },
  {
   "cell_type": "code",
   "execution_count": null,
   "outputs": [],
   "source": [
    "sns.boxplot(data=concat_df, x='Age', orient='horizontal', width=0.2)"
   ],
   "metadata": {
    "collapsed": false
   }
  },
  {
   "cell_type": "code",
   "execution_count": null,
   "outputs": [],
   "source": [
    "sns.heatmap(df[['StayMean', 'AgeMean']].corr(), annot=True, cmap='coolwarm')"
   ],
   "metadata": {
    "collapsed": false
   }
  },
  {
   "cell_type": "code",
   "execution_count": null,
   "outputs": [],
   "source": [
    "sns.heatmap(df[['StayMax', 'AgeMin']].corr(), annot=True, cmap='coolwarm')"
   ],
   "metadata": {
    "collapsed": false
   }
  }
 ],
 "metadata": {
  "kernelspec": {
   "display_name": "Python 3",
   "language": "python",
   "name": "python3"
  },
  "language_info": {
   "codemirror_mode": {
    "name": "ipython",
    "version": 2
   },
   "file_extension": ".py",
   "mimetype": "text/x-python",
   "name": "python",
   "nbconvert_exporter": "python",
   "pygments_lexer": "ipython2",
   "version": "2.7.6"
  }
 },
 "nbformat": 4,
 "nbformat_minor": 0
}
